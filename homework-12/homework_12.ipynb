{
 "cells": [
  {
   "cell_type": "code",
   "execution_count": 1,
   "metadata": {},
   "outputs": [],
   "source": [
    "import warnings\n",
    "warnings.filterwarnings('ignore')"
   ]
  },
  {
   "cell_type": "code",
   "execution_count": 2,
   "metadata": {},
   "outputs": [],
   "source": [
    "import json\n",
    "\n",
    "import bz2\n",
    "import regex\n",
    "from tqdm import tqdm\n",
    "from scipy import sparse"
   ]
  },
  {
   "cell_type": "code",
   "execution_count": 3,
   "metadata": {},
   "outputs": [
    {
     "name": "stdout",
     "output_type": "stream",
     "text": [
      "Populating the interactive namespace from numpy and matplotlib\n"
     ]
    }
   ],
   "source": [
    "import pandas as pd\n",
    "import numpy as np\n",
    "import nltk\n",
    "import matplotlib.pyplot as plt\n",
    "import seaborn as sns\n",
    "%matplotlib inline\n",
    "%pylab inline"
   ]
  },
  {
   "cell_type": "code",
   "execution_count": 4,
   "metadata": {
    "scrolled": true
   },
   "outputs": [
    {
     "name": "stderr",
     "output_type": "stream",
     "text": [
      "201030it [02:16, 1471.49it/s]\n"
     ]
    }
   ],
   "source": [
    "responses = []\n",
    "with bz2.BZ2File('data/banki_responses.json.bz2', 'r') as thefile:\n",
    "    for row in tqdm(thefile):\n",
    "        resp = json.loads(row)\n",
    "        if not resp['rating_not_checked'] and (len(resp['text'].split()) > 0):\n",
    "            responses.append(resp)"
   ]
  },
  {
   "cell_type": "markdown",
   "metadata": {},
   "source": [
    "#  Домашнее задание по NLP # 1 [100 баллов]\n",
    "## Классификация по тональности \n",
    "\n",
    "В этом домашнем задании вам предстоит классифицировать по тональности отзывы на банки с сайта banki.ru.\n",
    "\n",
    "Данные содержат непосредственно тексты отзывов, некоторую дополнительную информацию, а также оценку по шкале от 1 до 5. \n",
    "\n",
    "Тексты хранятся в json-ах в массиве responses.\n",
    "\n",
    "Посмотрим на пример отзыва:"
   ]
  },
  {
   "cell_type": "code",
   "execution_count": 5,
   "metadata": {},
   "outputs": [
    {
     "data": {
      "text/plain": [
       "{'city': 'г. Саратов',\n",
       " 'rating_not_checked': False,\n",
       " 'title': 'Карта ко вкладу',\n",
       " 'num_comments': 0,\n",
       " 'bank_license': 'лицензия № 880',\n",
       " 'author': 'ronnichka',\n",
       " 'bank_name': 'Югра',\n",
       " 'datetime': '2015-06-03 20:56:57',\n",
       " 'text': 'Здравствуйте! Хотела написать, что мне месяц не выдают карту ко вкладу, ссылаясь на \"нам же их из Самары везут\" (на секундочку 5 часов езды от нашего города). Но! Прочитала, что людям 3,5 месяцев не выдают карту, и поняла, что у меня все хорошо, пока что. И подарок мне дали, и кулер в отделении есть. Так что я, конечно, готова ждать. Правда хотелось бы не очень долго.',\n",
       " 'rating_grade': 3}"
      ]
     },
     "execution_count": 5,
     "metadata": {},
     "output_type": "execute_result"
    }
   ],
   "source": [
    "responses[99]"
   ]
  },
  {
   "cell_type": "markdown",
   "metadata": {},
   "source": [
    "## Часть 1. Анализ текстов [40/100]\n",
    "\n",
    "1. Посчитайте количество отзывов в разных городах и на разные банки\n",
    "2. Постройте гистограмы длин слов в символах и в словах\n",
    "3. Найдите 10 самых частых:\n",
    "    * слов\n",
    "    * слов без стоп-слов\n",
    "    * лемм \n",
    "    * существительных\n",
    "4. Постройте кривые Ципфа и Хипса\n",
    "5. Ответьте на следующие вопросы:\n",
    "    * какое слово встречается чаще, \"сотрудник\" или \"клиент\"?\n",
    "    * сколько раз встречается слова \"мошенничество\" и \"доверие\"?\n",
    "6. В поле \"rating_grade\" записана оценка отзыва по шкале от 1 до 5. Используйте меру $tf-idf$, для того, чтобы найти ключевые слова и биграмы для положительных отзывов (с оценкой 5) и отрицательных отзывов (с оценкой 1)"
   ]
  },
  {
   "cell_type": "code",
   "execution_count": 6,
   "metadata": {},
   "outputs": [],
   "source": [
    "data = pd.DataFrame(responses)"
   ]
  },
  {
   "cell_type": "code",
   "execution_count": 7,
   "metadata": {},
   "outputs": [
    {
     "data": {
      "text/html": [
       "<div>\n",
       "<style scoped>\n",
       "    .dataframe tbody tr th:only-of-type {\n",
       "        vertical-align: middle;\n",
       "    }\n",
       "\n",
       "    .dataframe tbody tr th {\n",
       "        vertical-align: top;\n",
       "    }\n",
       "\n",
       "    .dataframe thead th {\n",
       "        text-align: right;\n",
       "    }\n",
       "</style>\n",
       "<table border=\"1\" class=\"dataframe\">\n",
       "  <thead>\n",
       "    <tr style=\"text-align: right;\">\n",
       "      <th></th>\n",
       "      <th>author</th>\n",
       "      <th>bank_license</th>\n",
       "      <th>bank_name</th>\n",
       "      <th>city</th>\n",
       "      <th>datetime</th>\n",
       "      <th>num_comments</th>\n",
       "      <th>rating_grade</th>\n",
       "      <th>rating_not_checked</th>\n",
       "      <th>text</th>\n",
       "      <th>title</th>\n",
       "    </tr>\n",
       "  </thead>\n",
       "  <tbody>\n",
       "    <tr>\n",
       "      <th>0</th>\n",
       "      <td>uhnov1</td>\n",
       "      <td>лицензия № 2562</td>\n",
       "      <td>Бинбанк</td>\n",
       "      <td>г. Москва</td>\n",
       "      <td>2015-06-08 12:50:54</td>\n",
       "      <td>0</td>\n",
       "      <td>NaN</td>\n",
       "      <td>False</td>\n",
       "      <td>Добрый день! Я не являюсь клиентом банка и пор...</td>\n",
       "      <td>Жалоба</td>\n",
       "    </tr>\n",
       "    <tr>\n",
       "      <th>1</th>\n",
       "      <td>Foryou</td>\n",
       "      <td>лицензия № 1481</td>\n",
       "      <td>Сбербанк России</td>\n",
       "      <td>г. Новосибирск</td>\n",
       "      <td>2015-06-08 11:09:57</td>\n",
       "      <td>0</td>\n",
       "      <td>NaN</td>\n",
       "      <td>False</td>\n",
       "      <td>Доброго дня! Являюсь держателем зарплатной кар...</td>\n",
       "      <td>Не могу пользоваться услугой Сбербанк он-лайн</td>\n",
       "    </tr>\n",
       "    <tr>\n",
       "      <th>2</th>\n",
       "      <td>Vladimir84</td>\n",
       "      <td>лицензия № 2562</td>\n",
       "      <td>Бинбанк</td>\n",
       "      <td>г. Москва</td>\n",
       "      <td>2015-06-05 20:14:28</td>\n",
       "      <td>1</td>\n",
       "      <td>NaN</td>\n",
       "      <td>False</td>\n",
       "      <td>Здравствуйте!  Дублирую свое заявление от 03.0...</td>\n",
       "      <td>Двойное списание за один товар.</td>\n",
       "    </tr>\n",
       "    <tr>\n",
       "      <th>3</th>\n",
       "      <td>643609</td>\n",
       "      <td>лицензия № 1481</td>\n",
       "      <td>Сбербанк России</td>\n",
       "      <td>г. Ставрополь</td>\n",
       "      <td>2015-06-05 13:51:01</td>\n",
       "      <td>2</td>\n",
       "      <td>NaN</td>\n",
       "      <td>False</td>\n",
       "      <td>Добрый день!! Я открыл расчетный счет в СберБа...</td>\n",
       "      <td>Меняют проценты комиссии  не предупредив и не ...</td>\n",
       "    </tr>\n",
       "    <tr>\n",
       "      <th>4</th>\n",
       "      <td>anfisa-2003</td>\n",
       "      <td>лицензия № 2766</td>\n",
       "      <td>ОТП Банк</td>\n",
       "      <td>г. Челябинск</td>\n",
       "      <td>2015-06-05 10:58:12</td>\n",
       "      <td>1</td>\n",
       "      <td>NaN</td>\n",
       "      <td>False</td>\n",
       "      <td>04.03.2015 г. взяла кредит в вашем банке, заяв...</td>\n",
       "      <td>Верните денежные средства за страховку</td>\n",
       "    </tr>\n",
       "  </tbody>\n",
       "</table>\n",
       "</div>"
      ],
      "text/plain": [
       "        author     bank_license        bank_name            city  \\\n",
       "0       uhnov1  лицензия № 2562          Бинбанк       г. Москва   \n",
       "1       Foryou  лицензия № 1481  Сбербанк России  г. Новосибирск   \n",
       "2   Vladimir84  лицензия № 2562          Бинбанк       г. Москва   \n",
       "3       643609  лицензия № 1481  Сбербанк России   г. Ставрополь   \n",
       "4  anfisa-2003  лицензия № 2766         ОТП Банк    г. Челябинск   \n",
       "\n",
       "              datetime  num_comments  rating_grade  rating_not_checked  \\\n",
       "0  2015-06-08 12:50:54             0           NaN               False   \n",
       "1  2015-06-08 11:09:57             0           NaN               False   \n",
       "2  2015-06-05 20:14:28             1           NaN               False   \n",
       "3  2015-06-05 13:51:01             2           NaN               False   \n",
       "4  2015-06-05 10:58:12             1           NaN               False   \n",
       "\n",
       "                                                text  \\\n",
       "0  Добрый день! Я не являюсь клиентом банка и пор...   \n",
       "1  Доброго дня! Являюсь держателем зарплатной кар...   \n",
       "2  Здравствуйте!  Дублирую свое заявление от 03.0...   \n",
       "3  Добрый день!! Я открыл расчетный счет в СберБа...   \n",
       "4  04.03.2015 г. взяла кредит в вашем банке, заяв...   \n",
       "\n",
       "                                               title  \n",
       "0                                             Жалоба  \n",
       "1      Не могу пользоваться услугой Сбербанк он-лайн  \n",
       "2                    Двойное списание за один товар.  \n",
       "3  Меняют проценты комиссии  не предупредив и не ...  \n",
       "4             Верните денежные средства за страховку  "
      ]
     },
     "execution_count": 7,
     "metadata": {},
     "output_type": "execute_result"
    }
   ],
   "source": [
    "data.head()"
   ]
  },
  {
   "cell_type": "markdown",
   "metadata": {},
   "source": [
    "# 1. Посчитайте количество отзывов в разных городах и на разные банки"
   ]
  },
  {
   "cell_type": "code",
   "execution_count": 8,
   "metadata": {},
   "outputs": [
    {
     "data": {
      "text/plain": [
       "Сбербанк России                                         26327\n",
       "Альфа-Банк                                              10224\n",
       "ВТБ 24                                                   8185\n",
       "Русский Стандарт                                         7943\n",
       "Хоум Кредит Банк                                         7549\n",
       "Тинькофф Банк                                            5387\n",
       "Национальный Банк «Траст»                                4607\n",
       "Ренессанс Кредит                                         3849\n",
       "Связной Банк                                             3775\n",
       "ОТП Банк                                                 3237\n",
       "Восточный Экспресс Банк                                  3138\n",
       "Райффайзенбанк                                           3057\n",
       "Московский Кредитный Банк                                2944\n",
       "Ситибанк                                                 2848\n",
       "Авангард                                                 2733\n",
       "Промсвязьбанк                                            2586\n",
       "ЮниКредит Банк                                           2488\n",
       "Банк Москвы                                              2456\n",
       "Ханты-Мансийский банк Открытие                           2158\n",
       "МТС Банк                                                 1870\n",
       "Киви Банк                                                1741\n",
       "Кредит Европа Банк                                       1683\n",
       "Росбанк                                                  1658\n",
       "Бинбанк                                                  1646\n",
       "БИНБАНК кредитные карты                                  1464\n",
       "Сетелем Банк                                             1351\n",
       "Московский Областной Банк                                1277\n",
       "Юниаструм Банк                                           1111\n",
       "Современный Коммерческий Банк (бывш. ДжиИ Мани Банк)      993\n",
       "Уралсиб                                                   989\n",
       "                                                        ...  \n",
       "Движение                                                    1\n",
       "Взаимодействие                                              1\n",
       "Вкабанк                                                     1\n",
       "Ростпромстройбанк                                           1\n",
       "БайкалИнвестБанк                                            1\n",
       "Иваново                                                     1\n",
       "Гарант-Инвест                                               1\n",
       "Сибнефтебанк                                                1\n",
       "Снежинский                                                  1\n",
       "Еврофинанс Моснарбанк                                       1\n",
       "Экспресс                                                    1\n",
       "Донской Народный Банк                                       1\n",
       "Татсоцбанк                                                  1\n",
       "Ипозембанк                                                  1\n",
       "Московский Вексельный Банк                                  1\n",
       "Тайм Банк                                                   1\n",
       "Ноосфера                                                    1\n",
       "Петровка                                                    1\n",
       "Жилстройбанк                                                1\n",
       "Современные Стандарты Бизнеса                               1\n",
       "РСКБ                                                        1\n",
       "Потенциал                                                   1\n",
       "Уралкапиталбанк                                             1\n",
       "М2М Прайвет Банк                                            1\n",
       "Кредит Экспресс                                             1\n",
       "Русский Национальный Банк                                   1\n",
       "Нэклис-Банк                                                 1\n",
       "Единый Строительный Банк                                    1\n",
       "Век                                                         1\n",
       "Витязь                                                      1\n",
       "Name: bank_name, Length: 670, dtype: int64"
      ]
     },
     "execution_count": 8,
     "metadata": {},
     "output_type": "execute_result"
    }
   ],
   "source": [
    "data['bank_name'].value_counts()"
   ]
  },
  {
   "cell_type": "markdown",
   "metadata": {},
   "source": [
    "### Наименования банков выглядят нормально."
   ]
  },
  {
   "cell_type": "code",
   "execution_count": 9,
   "metadata": {
    "scrolled": true
   },
   "outputs": [
    {
     "data": {
      "text/plain": [
       "г. Москва                                                       55354\n",
       "г. Санкт-Петербург                                              14342\n",
       "г. Екатеринбург                                                  2337\n",
       "г. Новосибирск                                                   2300\n",
       "г. Нижний Новгород                                               1976\n",
       "г. Ростов-на-Дону                                                1891\n",
       "г. Самара                                                        1731\n",
       "г. Челябинск                                                     1507\n",
       "г. Казань                                                        1440\n",
       "г. Краснодар                                                     1262\n",
       "г. Уфа                                                           1246\n",
       "г. Красноярск                                                    1236\n",
       "г. москва                                                        1217\n",
       "г. Воронеж                                                       1210\n",
       "г. Пермь                                                         1163\n",
       "г. Волгоград                                                     1014\n",
       "г. Омск                                                           989\n",
       "г. Саратов                                                        933\n",
       "г. Иркутск                                                        749\n",
       "г. Калининград                                                    746\n",
       "г. Ставрополь                                                     696\n",
       "г. Хабаровск                                                      681\n",
       "г. Тюмень                                                         656\n",
       "г. Владивосток                                                    637\n",
       "г. Барнаул                                                        609\n",
       "г. Ярославль                                                      609\n",
       "г. Тула                                                           586\n",
       "г. Томск                                                          569\n",
       "г. Рязань                                                         548\n",
       "г. Ульяновск                                                      500\n",
       "                                                                ...  \n",
       "г. Default                                                          1\n",
       "г. п. Игра (Удмуртская республика)                                  1\n",
       "г. г. Москва (Юбилейный)                                            1\n",
       "г. Серпухов (Московская обл.)                                       1\n",
       "г. мкр.Северо-Задонск г.Донской                                     1\n",
       "г. Приморский край п.Краскино                                       1\n",
       "г. Республика Хакасия, г. Черногорск                                1\n",
       "г. крестцы                                                          1\n",
       "г. ЛО                                                               1\n",
       "г. :Жуковка                                                         1\n",
       "г. Черногорск (Москва и область)                                    1\n",
       "г. Сургут Тюменская область                                         1\n",
       "г. Московская область, г. Королев                                   1\n",
       "г. Шкотово                                                          1\n",
       "г. Куеда                                                            1\n",
       "г. Моск. обл., Домодедово                                           1\n",
       "г. Какое может быть расследование                                   1\n",
       "г. Брянск (Сочи)                                                    1\n",
       "г. Пряжа                                                            1\n",
       "г. Раменское, МО                                                    1\n",
       "г. с. Александровское                                               1\n",
       "г. Балгород (Москва)                                                1\n",
       "г. Горки-25 Дмитровский район                                       1\n",
       "г. Забайкальский край, Читинский район, пгт Новокручининский        1\n",
       "г. Сосны                                                            1\n",
       "г. Мурсалимкино                                                     1\n",
       "г. Белгородская область город Губкин                                1\n",
       "г. Новочеркасск (Республика Хакасия)                                1\n",
       "г. п. Емельяново                                                    1\n",
       "г. ужур красноярский край                                           1\n",
       "Name: city, Length: 5823, dtype: int64"
      ]
     },
     "execution_count": 9,
     "metadata": {},
     "output_type": "execute_result"
    }
   ],
   "source": [
    "data['city'].value_counts()"
   ]
  },
  {
   "cell_type": "code",
   "execution_count": 10,
   "metadata": {},
   "outputs": [
    {
     "data": {
      "text/plain": [
       "city\n",
       "г. Samara                                   3\n",
       "г. Ростов-на Дону                           3\n",
       "г. Ростов-на-Дону (Краснодар)               3\n",
       "г. Рыбинск (Ярославская обл.)               3\n",
       "г. Рязань (Москва)                          3\n",
       "г. Санкт-Перербург                          3\n",
       "г. Санкт-Петебрург                          3\n",
       "г. Санкт-Петербрг                           3\n",
       "г. Санкт-Петербугр                          3\n",
       "г. Санкт-Петербург (Санкт-Петербург)        3\n",
       "г. Санкт-Петербург - Москва                 3\n",
       "г. Санкт-Петербург, Москва                  3\n",
       "г. Санкт-Петербург, г. Пушкин               3\n",
       "г. Санкт-Птербург                           3\n",
       "г. Санкт-Птеребург                          3\n",
       "г. Саратов (Саратовская область)            3\n",
       "г. Сафоново (Смоленская область)            3\n",
       "г. Северодвинск (Архангельская обл.)        3\n",
       "г. Североуральск. пос Калья                 3\n",
       "г. Сегежа                                   3\n",
       "г. Селятино                                 3\n",
       "г. Семилуки                                 3\n",
       "г. Сердобск                                 3\n",
       "г. Серебряные Пруды                         3\n",
       "г. Сестрорецк                               3\n",
       "г. Сидней                                   3\n",
       "г. Собинка                                  3\n",
       "г. Ставрополь (Ставрополь)                  3\n",
       "г. ТАМБОВ                                   3\n",
       "г. ТВЕРЬ                                    3\n",
       "                                           ..\n",
       "г. Казань (Самара)                          3\n",
       "г. Калуга (Москва)                          3\n",
       "г. Калязин                                  3\n",
       "г. Каменск-Уральский (Свердловская обл.)    3\n",
       "г. Каневская                                3\n",
       "г. Качканар                                 3\n",
       "г. Кемеровская область                      3\n",
       "г. Киржач                                   3\n",
       "г. Киселёвск                                3\n",
       "г. Ковров (Владимир)                        3\n",
       "г. Козьмодемьянск                           3\n",
       "г. Коломна (Москва и область)               3\n",
       "г. Интернет                                 3\n",
       "г. Константиновск                           3\n",
       "г. Королев (Москва)                         3\n",
       "г. Котово                                   3\n",
       "г. Красково                                 3\n",
       "г. Купино                                   3\n",
       "г. Курагино                                 3\n",
       "г. Курск (Курская область)                  3\n",
       "г. Курская область                          3\n",
       "г. Лагань                                   3\n",
       "г. Лангепас                                 3\n",
       "г. Ленинград                                3\n",
       "г. Лондон                                   3\n",
       "г. Марфино (Одинцовский р-н)                3\n",
       "г. Миллерово                                3\n",
       "г. Михайлов                                 3\n",
       "г. Коркино                                  3\n",
       "г. туапсе                                   3\n",
       "Length: 266, dtype: int64"
      ]
     },
     "execution_count": 10,
     "metadata": {},
     "output_type": "execute_result"
    }
   ],
   "source": [
    "data.groupby('city').size().loc[lambda x: x == 3].sort_values()"
   ]
  },
  {
   "cell_type": "markdown",
   "metadata": {},
   "source": [
    "### Наименования городов в больше части выглядят нормально, но есть и мусорные названия."
   ]
  },
  {
   "cell_type": "code",
   "execution_count": 11,
   "metadata": {},
   "outputs": [],
   "source": [
    "grouped = data[['bank_name', 'city']].groupby(['bank_name', 'city'])['bank_name'].agg('count').to_frame('count')['count'].groupby(level=0, group_keys=False)"
   ]
  },
  {
   "cell_type": "code",
   "execution_count": 12,
   "metadata": {},
   "outputs": [
    {
     "data": {
      "text/plain": [
       "bank_name                city                            \n",
       "2Т Банк                  г. Москва                            359\n",
       "                         г. Санкт-Петербург                   163\n",
       "                         г. Краснодар                          11\n",
       "                         г. Новороссийск                       10\n",
       "                         г. Нижний Новгород                     7\n",
       "АБ Финанс                г. Москва                              7\n",
       "                         г. Тюмень                              2\n",
       "                         г. Воронеж                             1\n",
       "                         г. Мытищи                              1\n",
       "                         г. Нижний Новгород                     1\n",
       "АББ                      г. Москва                              1\n",
       "                         г. Санкт-Петербург                     1\n",
       "АМБ Банк                 г. Москва                              1\n",
       "АМТ Банк                 г. Москва                             73\n",
       "                         г. Санкт-Петербург                     7\n",
       "                         г. Волгоград                           3\n",
       "                         г. Moscow                              2\n",
       "                         г. Саратов                             2\n",
       "АФ Банк                  г. Уфа                                12\n",
       "                         г. Стерлитамак                         1\n",
       "                         г. УФА                                 1\n",
       "                         г. Уфа (Республика Башкортостан)       1\n",
       "                         г. Челябинск                           1\n",
       "Абсолют Банк             г. Москва                            270\n",
       "                         г. Санкт-Петербург                    38\n",
       "                         г. Уфа                                15\n",
       "                         г. Екатеринбург                       14\n",
       "                         г. москва                             11\n",
       "Авангард                 г. Москва                           1060\n",
       "                         г. Санкт-Петербург                   357\n",
       "                                                             ... \n",
       "Югра                     г. Новосибирск                         8\n",
       "                         г. Тюмень                              8\n",
       "Южный Региональный Банк  г. Ростов-на-Дону                      1\n",
       "ЮниКредит Банк           г. Москва                           1169\n",
       "                         г. Санкт-Петербург                   361\n",
       "                         г. москва                             24\n",
       "                         г. Самара                             23\n",
       "                         г. Воронеж                            20\n",
       "Юниаструм Банк           г. Москва                            319\n",
       "                         г. Санкт-Петербург                    48\n",
       "                         г. москва                             16\n",
       "                         г. Самара                             10\n",
       "                         г. Тула                                9\n",
       "Юникорбанк               г. Москва                              5\n",
       "                         г. Щекино                              1\n",
       "Юнистрим                 г. Москва                             13\n",
       "                         г. Санкт-Петербург                    11\n",
       "                         г. Киев                                2\n",
       "                         г. Минск                               2\n",
       "                         г. Тюмень                              2\n",
       "ЯР-Банк                  г. Москва                             11\n",
       "                         г. Путилково                           1\n",
       "Яндекс.Деньги            г. Москва                             91\n",
       "                         г. Санкт-Петербург                    18\n",
       "                         г. Калининград                         6\n",
       "                         г. Челябинск                           6\n",
       "                         г. Омск                                4\n",
       "Ярославич                г. Москва                              2\n",
       "                         г. Ярославль                           2\n",
       "                         г. Рыбинск                             1\n",
       "Name: count, Length: 1817, dtype: int64"
      ]
     },
     "execution_count": 12,
     "metadata": {},
     "output_type": "execute_result"
    }
   ],
   "source": [
    "grouped.nlargest(5)"
   ]
  },
  {
   "cell_type": "markdown",
   "metadata": {},
   "source": [
    "# 2. Постройте гистограмы длин слов в символах и в словах"
   ]
  },
  {
   "cell_type": "code",
   "execution_count": 13,
   "metadata": {},
   "outputs": [
    {
     "name": "stderr",
     "output_type": "stream",
     "text": [
      "/home/myxrome/Applications/anaconda3/lib/python3.6/site-packages/matplotlib/figure.py:445: UserWarning: Matplotlib is currently using module://ipykernel.pylab.backend_inline, which is a non-GUI backend, so cannot show the figure.\n",
      "  % get_backend())\n"
     ]
    },
    {
     "data": {
      "image/png": "[encoded data removed]",
      "text/plain": [
       "<Figure size 432x288 with 1 Axes>"
      ]
     },
     "metadata": {
      "needs_background": "light"
     },
     "output_type": "display_data"
    }
   ],
   "source": [
    "length = data['text'].apply(len).tolist()\n",
    "fig, ax = plt.subplots()\n",
    "n, bins, patches = ax.hist(length)\n",
    "fig.show()"
   ]
  },
  {
   "cell_type": "code",
   "execution_count": 14,
   "metadata": {},
   "outputs": [
    {
     "name": "stderr",
     "output_type": "stream",
     "text": [
      "/home/myxrome/Applications/anaconda3/lib/python3.6/site-packages/matplotlib/figure.py:445: UserWarning: Matplotlib is currently using module://ipykernel.pylab.backend_inline, which is a non-GUI backend, so cannot show the figure.\n",
      "  % get_backend())\n"
     ]
    },
    {
     "data": {
      "image/png": "[encoded data removed]",
      "text/plain": [
       "<Figure size 432x288 with 1 Axes>"
      ]
     },
     "metadata": {
      "needs_background": "light"
     },
     "output_type": "display_data"
    }
   ],
   "source": [
    "length = [x for x in length if x < 10000]\n",
    "fig, ax = plt.subplots()\n",
    "n, bins, patches = ax.hist(length)\n",
    "fig.show()"
   ]
  },
  {
   "cell_type": "code",
   "execution_count": 15,
   "metadata": {},
   "outputs": [
    {
     "name": "stderr",
     "output_type": "stream",
     "text": [
      "/home/myxrome/Applications/anaconda3/lib/python3.6/site-packages/matplotlib/figure.py:445: UserWarning: Matplotlib is currently using module://ipykernel.pylab.backend_inline, which is a non-GUI backend, so cannot show the figure.\n",
      "  % get_backend())\n"
     ]
    },
    {
     "data": {
      "image/png": "[encoded data removed]",
      "text/plain": [
       "<Figure size 432x288 with 1 Axes>"
      ]
     },
     "metadata": {
      "needs_background": "light"
     },
     "output_type": "display_data"
    }
   ],
   "source": [
    "length = [x for x in length if x < 2000]\n",
    "fig, ax = plt.subplots()\n",
    "n, bins, patches = ax.hist(length)\n",
    "fig.show()"
   ]
  },
  {
   "cell_type": "markdown",
   "metadata": {},
   "source": [
    "### Основная часть длин текстов находится в пределах 2000 символов."
   ]
  },
  {
   "cell_type": "code",
   "execution_count": 16,
   "metadata": {},
   "outputs": [],
   "source": [
    "from nltk.tokenize import toktok\n",
    "toktok = toktok.ToktokTokenizer()"
   ]
  },
  {
   "cell_type": "code",
   "execution_count": 17,
   "metadata": {},
   "outputs": [],
   "source": [
    "def word_count(str):\n",
    "    return len(toktok.tokenize(str, return_str=False))"
   ]
  },
  {
   "cell_type": "code",
   "execution_count": 18,
   "metadata": {
    "scrolled": true
   },
   "outputs": [
    {
     "name": "stderr",
     "output_type": "stream",
     "text": [
      "/home/myxrome/Applications/anaconda3/lib/python3.6/site-packages/matplotlib/figure.py:445: UserWarning: Matplotlib is currently using module://ipykernel.pylab.backend_inline, which is a non-GUI backend, so cannot show the figure.\n",
      "  % get_backend())\n"
     ]
    },
    {
     "data": {
      "image/png": "[encoded data removed]",
      "text/plain": [
       "<Figure size 432x288 with 1 Axes>"
      ]
     },
     "metadata": {
      "needs_background": "light"
     },
     "output_type": "display_data"
    }
   ],
   "source": [
    "length = data['text'].apply(word_count).tolist()\n",
    "fig, ax = plt.subplots()\n",
    "n, bins, patches = ax.hist(length)\n",
    "fig.show()"
   ]
  },
  {
   "cell_type": "code",
   "execution_count": 19,
   "metadata": {},
   "outputs": [
    {
     "name": "stderr",
     "output_type": "stream",
     "text": [
      "/home/myxrome/Applications/anaconda3/lib/python3.6/site-packages/matplotlib/figure.py:445: UserWarning: Matplotlib is currently using module://ipykernel.pylab.backend_inline, which is a non-GUI backend, so cannot show the figure.\n",
      "  % get_backend())\n"
     ]
    },
    {
     "data": {
      "image/png": "[encoded data removed]",
      "text/plain": [
       "<Figure size 432x288 with 1 Axes>"
      ]
     },
     "metadata": {
      "needs_background": "light"
     },
     "output_type": "display_data"
    }
   ],
   "source": [
    "length = [x for x in length if x < 1000]\n",
    "fig, ax = plt.subplots()\n",
    "n, bins, patches = ax.hist(length)\n",
    "fig.show()"
   ]
  },
  {
   "cell_type": "code",
   "execution_count": 20,
   "metadata": {},
   "outputs": [
    {
     "name": "stderr",
     "output_type": "stream",
     "text": [
      "/home/myxrome/Applications/anaconda3/lib/python3.6/site-packages/matplotlib/figure.py:445: UserWarning: Matplotlib is currently using module://ipykernel.pylab.backend_inline, which is a non-GUI backend, so cannot show the figure.\n",
      "  % get_backend())\n"
     ]
    },
    {
     "data": {
      "image/png": "[encoded data removed]",
      "text/plain": [
       "<Figure size 432x288 with 1 Axes>"
      ]
     },
     "metadata": {
      "needs_background": "light"
     },
     "output_type": "display_data"
    }
   ],
   "source": [
    "length = [x for x in length if x < 500]\n",
    "fig, ax = plt.subplots()\n",
    "n, bins, patches = ax.hist(length)\n",
    "fig.show()"
   ]
  },
  {
   "cell_type": "markdown",
   "metadata": {},
   "source": [
    "### Основная часть текстов состоит менее чем из 1000 слов."
   ]
  },
  {
   "cell_type": "markdown",
   "metadata": {},
   "source": [
    "# 3. Найдите 10 самых частых: слов, слов без стоп-слов, лемм, существительных\n"
   ]
  },
  {
   "cell_type": "code",
   "execution_count": 21,
   "metadata": {},
   "outputs": [],
   "source": [
    "prog = regex.compile('[А-Яа-я]+')\n",
    "def extract_tokens(str):\n",
    "    return [' '.join(prog.findall(x.lower())) for x in toktok.tokenize(str, return_str=False) if prog.findall(x)]"
   ]
  },
  {
   "cell_type": "code",
   "execution_count": 22,
   "metadata": {},
   "outputs": [],
   "source": [
    "from nltk.corpus import stopwords\n",
    "mystopwords = stopwords.words('russian') + ['это', 'очень', 'г', 'именно', 'просто', 'руб', 'который', 'нужно', 'тк', 'хотя', 'мои', 'моей', 'также', 'сразу', 'несколько', 'вообще', 'которые', 'всё', 'мной', 'моего', 'никто', 'свои', 'снова', 'именно']"
   ]
  },
  {
   "cell_type": "code",
   "execution_count": 23,
   "metadata": {},
   "outputs": [],
   "source": [
    "def clean_tokens(tokens):\n",
    "    return [x for x in tokens if x not in mystopwords]"
   ]
  },
  {
   "cell_type": "code",
   "execution_count": 24,
   "metadata": {},
   "outputs": [
    {
     "name": "stderr",
     "output_type": "stream",
     "text": [
      "Using TensorFlow backend.\n"
     ]
    },
    {
     "name": "stdout",
     "output_type": "stream",
     "text": [
      "WARNING:tensorflow:From /home/myxrome/Applications/anaconda3/lib/python3.6/site-packages/tensorflow/python/framework/op_def_library.py:263: colocate_with (from tensorflow.python.framework.ops) is deprecated and will be removed in a future version.\n",
      "Instructions for updating:\n",
      "Colocations handled automatically by placer.\n",
      "WARNING:tensorflow:From /home/myxrome/Applications/anaconda3/lib/python3.6/site-packages/keras/backend/tensorflow_backend.py:3445: calling dropout (from tensorflow.python.ops.nn_ops) with keep_prob is deprecated and will be removed in a future version.\n",
      "Instructions for updating:\n",
      "Please use `rate` instead of `keep_prob`. Rate should be set to `rate = 1 - keep_prob`.\n"
     ]
    }
   ],
   "source": [
    "from rnnmorph.predictor import RNNMorphPredictor\n",
    "predictor = RNNMorphPredictor(language=\"ru\")"
   ]
  },
  {
   "cell_type": "code",
   "execution_count": 62,
   "metadata": {},
   "outputs": [
    {
     "name": "stderr",
     "output_type": "stream",
     "text": [
      "100%|██████████| 153499/153499 [8:23:05<00:00,  5.09it/s]    \n"
     ]
    }
   ],
   "source": [
    "from collections import Counter\n",
    "\n",
    "all_words_cnt = Counter()\n",
    "good_words_cnt = Counter()\n",
    "lemmas_cnt = Counter()\n",
    "nouns_cnt = Counter()\n",
    "n_types = []\n",
    "n_tokens = []\n",
    "all_lemmas = []\n",
    "\n",
    "for index, row in tqdm(data.iterrows(), total = len(data)):\n",
    "    tokens = extract_tokens(row['text'])\n",
    "    all_words_cnt.update(tokens)\n",
    "\n",
    "    good_tokens = clean_tokens(tokens)\n",
    "    good_words_cnt.update(good_tokens)\n",
    "    \n",
    "    forms = predictor.predict(good_tokens)\n",
    "    lemmas = []\n",
    "    nouns = []\n",
    "    for form in forms:\n",
    "        lemmas.append(form.normal_form)\n",
    "        if form.pos == 'NOUN':\n",
    "            nouns.append(form.normal_form)\n",
    "    all_lemmas.append(lemmas)\n",
    "    lemmas_cnt.update(lemmas)\n",
    "    nouns_cnt.update(nouns)\n",
    "    \n",
    "    n_types.append(len(lemmas_cnt))\n",
    "    n_tokens.append(sum(list(lemmas_cnt.values())))"
   ]
  },
  {
   "cell_type": "code",
   "execution_count": 63,
   "metadata": {},
   "outputs": [
    {
     "name": "stdout",
     "output_type": "stream",
     "text": [
      "('в', 1323379)\n",
      "('и', 1055355)\n",
      "('не', 854696)\n",
      "('на', 704478)\n",
      "('что', 621911)\n",
      "('я', 576385)\n",
      "('с', 455749)\n",
      "('по', 365281)\n",
      "('мне', 320748)\n",
      "('банка', 264276)\n"
     ]
    }
   ],
   "source": [
    "for i in all_words_cnt.most_common(10):\n",
    "    print(i)"
   ]
  },
  {
   "cell_type": "code",
   "execution_count": 64,
   "metadata": {
    "scrolled": true
   },
   "outputs": [
    {
     "name": "stdout",
     "output_type": "stream",
     "text": [
      "('банка', 264276)\n",
      "('банк', 196685)\n",
      "('деньги', 130163)\n",
      "('карту', 105091)\n",
      "('карты', 101062)\n",
      "('кредит', 80360)\n",
      "('день', 76069)\n",
      "('заявление', 69577)\n",
      "('отделение', 66503)\n",
      "('время', 65605)\n"
     ]
    }
   ],
   "source": [
    "for i in good_words_cnt.most_common(10):\n",
    "    print(i)"
   ]
  },
  {
   "cell_type": "code",
   "execution_count": 65,
   "metadata": {},
   "outputs": [
    {
     "name": "stdout",
     "output_type": "stream",
     "text": [
      "('банк', 536152)\n",
      "('карта', 332333)\n",
      "('деньга', 178486)\n",
      "('день', 172328)\n",
      "('кредит', 155033)\n",
      "('отделение', 143688)\n",
      "('сотрудник', 133740)\n",
      "('клиент', 133318)\n",
      "('счёт', 125119)\n",
      "('сумма', 111011)\n"
     ]
    }
   ],
   "source": [
    "for i in lemmas_cnt.most_common(10):\n",
    "    print(i)"
   ]
  },
  {
   "cell_type": "code",
   "execution_count": 66,
   "metadata": {},
   "outputs": [
    {
     "name": "stdout",
     "output_type": "stream",
     "text": [
      "('банк', 536108)\n",
      "('карта', 331665)\n",
      "('деньга', 178376)\n",
      "('день', 172319)\n",
      "('кредит', 154926)\n",
      "('отделение', 143525)\n",
      "('сотрудник', 133734)\n",
      "('клиент', 133311)\n",
      "('счёт', 125113)\n",
      "('сумма', 110778)\n"
     ]
    }
   ],
   "source": [
    "for i in nouns_cnt.most_common(10):\n",
    "    print(i)"
   ]
  },
  {
   "cell_type": "code",
   "execution_count": 67,
   "metadata": {},
   "outputs": [],
   "source": [
    "data['lemmas'] = all_lemmas"
   ]
  },
  {
   "cell_type": "code",
   "execution_count": 68,
   "metadata": {},
   "outputs": [
    {
     "data": {
      "text/html": [
       "<div>\n",
       "<style scoped>\n",
       "    .dataframe tbody tr th:only-of-type {\n",
       "        vertical-align: middle;\n",
       "    }\n",
       "\n",
       "    .dataframe tbody tr th {\n",
       "        vertical-align: top;\n",
       "    }\n",
       "\n",
       "    .dataframe thead th {\n",
       "        text-align: right;\n",
       "    }\n",
       "</style>\n",
       "<table border=\"1\" class=\"dataframe\">\n",
       "  <thead>\n",
       "    <tr style=\"text-align: right;\">\n",
       "      <th></th>\n",
       "      <th>author</th>\n",
       "      <th>bank_license</th>\n",
       "      <th>bank_name</th>\n",
       "      <th>city</th>\n",
       "      <th>datetime</th>\n",
       "      <th>num_comments</th>\n",
       "      <th>rating_grade</th>\n",
       "      <th>rating_not_checked</th>\n",
       "      <th>text</th>\n",
       "      <th>title</th>\n",
       "      <th>lemmas</th>\n",
       "    </tr>\n",
       "  </thead>\n",
       "  <tbody>\n",
       "    <tr>\n",
       "      <th>0</th>\n",
       "      <td>uhnov1</td>\n",
       "      <td>лицензия № 2562</td>\n",
       "      <td>Бинбанк</td>\n",
       "      <td>г. Москва</td>\n",
       "      <td>2015-06-08 12:50:54</td>\n",
       "      <td>0</td>\n",
       "      <td>NaN</td>\n",
       "      <td>False</td>\n",
       "      <td>Добрый день! Я не являюсь клиентом банка и пор...</td>\n",
       "      <td>Жалоба</td>\n",
       "      <td>[добрый, день, являться, клиент, банк, поручит...</td>\n",
       "    </tr>\n",
       "    <tr>\n",
       "      <th>1</th>\n",
       "      <td>Foryou</td>\n",
       "      <td>лицензия № 1481</td>\n",
       "      <td>Сбербанк России</td>\n",
       "      <td>г. Новосибирск</td>\n",
       "      <td>2015-06-08 11:09:57</td>\n",
       "      <td>0</td>\n",
       "      <td>NaN</td>\n",
       "      <td>False</td>\n",
       "      <td>Доброго дня! Являюсь держателем зарплатной кар...</td>\n",
       "      <td>Не могу пользоваться услугой Сбербанк он-лайн</td>\n",
       "      <td>[добрый, день, являться, держатель, зарплатный...</td>\n",
       "    </tr>\n",
       "    <tr>\n",
       "      <th>2</th>\n",
       "      <td>Vladimir84</td>\n",
       "      <td>лицензия № 2562</td>\n",
       "      <td>Бинбанк</td>\n",
       "      <td>г. Москва</td>\n",
       "      <td>2015-06-05 20:14:28</td>\n",
       "      <td>1</td>\n",
       "      <td>NaN</td>\n",
       "      <td>False</td>\n",
       "      <td>Здравствуйте!  Дублирую свое заявление от 03.0...</td>\n",
       "      <td>Двойное списание за один товар.</td>\n",
       "      <td>[здравствовать, дублировать, свой, заявление, ...</td>\n",
       "    </tr>\n",
       "    <tr>\n",
       "      <th>3</th>\n",
       "      <td>643609</td>\n",
       "      <td>лицензия № 1481</td>\n",
       "      <td>Сбербанк России</td>\n",
       "      <td>г. Ставрополь</td>\n",
       "      <td>2015-06-05 13:51:01</td>\n",
       "      <td>2</td>\n",
       "      <td>NaN</td>\n",
       "      <td>False</td>\n",
       "      <td>Добрый день!! Я открыл расчетный счет в СберБа...</td>\n",
       "      <td>Меняют проценты комиссии  не предупредив и не ...</td>\n",
       "      <td>[добрый, день, открыть, расчётный, счёт, сберб...</td>\n",
       "    </tr>\n",
       "    <tr>\n",
       "      <th>4</th>\n",
       "      <td>anfisa-2003</td>\n",
       "      <td>лицензия № 2766</td>\n",
       "      <td>ОТП Банк</td>\n",
       "      <td>г. Челябинск</td>\n",
       "      <td>2015-06-05 10:58:12</td>\n",
       "      <td>1</td>\n",
       "      <td>NaN</td>\n",
       "      <td>False</td>\n",
       "      <td>04.03.2015 г. взяла кредит в вашем банке, заяв...</td>\n",
       "      <td>Верните денежные средства за страховку</td>\n",
       "      <td>[взять, кредит, ваш, банка, заявленный, я, сум...</td>\n",
       "    </tr>\n",
       "  </tbody>\n",
       "</table>\n",
       "</div>"
      ],
      "text/plain": [
       "        author     bank_license        bank_name            city  \\\n",
       "0       uhnov1  лицензия № 2562          Бинбанк       г. Москва   \n",
       "1       Foryou  лицензия № 1481  Сбербанк России  г. Новосибирск   \n",
       "2   Vladimir84  лицензия № 2562          Бинбанк       г. Москва   \n",
       "3       643609  лицензия № 1481  Сбербанк России   г. Ставрополь   \n",
       "4  anfisa-2003  лицензия № 2766         ОТП Банк    г. Челябинск   \n",
       "\n",
       "              datetime  num_comments  rating_grade  rating_not_checked  \\\n",
       "0  2015-06-08 12:50:54             0           NaN               False   \n",
       "1  2015-06-08 11:09:57             0           NaN               False   \n",
       "2  2015-06-05 20:14:28             1           NaN               False   \n",
       "3  2015-06-05 13:51:01             2           NaN               False   \n",
       "4  2015-06-05 10:58:12             1           NaN               False   \n",
       "\n",
       "                                                text  \\\n",
       "0  Добрый день! Я не являюсь клиентом банка и пор...   \n",
       "1  Доброго дня! Являюсь держателем зарплатной кар...   \n",
       "2  Здравствуйте!  Дублирую свое заявление от 03.0...   \n",
       "3  Добрый день!! Я открыл расчетный счет в СберБа...   \n",
       "4  04.03.2015 г. взяла кредит в вашем банке, заяв...   \n",
       "\n",
       "                                               title  \\\n",
       "0                                             Жалоба   \n",
       "1      Не могу пользоваться услугой Сбербанк он-лайн   \n",
       "2                    Двойное списание за один товар.   \n",
       "3  Меняют проценты комиссии  не предупредив и не ...   \n",
       "4             Верните денежные средства за страховку   \n",
       "\n",
       "                                              lemmas  \n",
       "0  [добрый, день, являться, клиент, банк, поручит...  \n",
       "1  [добрый, день, являться, держатель, зарплатный...  \n",
       "2  [здравствовать, дублировать, свой, заявление, ...  \n",
       "3  [добрый, день, открыть, расчётный, счёт, сберб...  \n",
       "4  [взять, кредит, ваш, банка, заявленный, я, сум...  "
      ]
     },
     "execution_count": 68,
     "metadata": {},
     "output_type": "execute_result"
    }
   ],
   "source": [
    "data.head()"
   ]
  },
  {
   "cell_type": "markdown",
   "metadata": {},
   "source": [
    "# 4. Постройте кривые Ципфа и Хипса"
   ]
  },
  {
   "cell_type": "markdown",
   "metadata": {},
   "source": [
    "#### Ципфа"
   ]
  },
  {
   "cell_type": "code",
   "execution_count": 69,
   "metadata": {},
   "outputs": [
    {
     "data": {
      "image/png": "[encoded data removed]",
      "text/plain": [
       "<Figure size 432x288 with 1 Axes>"
      ]
     },
     "metadata": {
      "needs_background": "light"
     },
     "output_type": "display_data"
    }
   ],
   "source": [
    "freqs = list(lemmas_cnt.values())\n",
    "freqs = sorted(freqs, reverse = True)\n",
    "\n",
    "fig, ax = plt.subplots()\n",
    "ax.plot(freqs[:300], range(300))\n",
    "plt.show()"
   ]
  },
  {
   "cell_type": "markdown",
   "metadata": {},
   "source": [
    "#### Хипса"
   ]
  },
  {
   "cell_type": "code",
   "execution_count": 70,
   "metadata": {},
   "outputs": [
    {
     "data": {
      "image/png": "[encoded data removed]",
      "text/plain": [
       "<Figure size 432x288 with 1 Axes>"
      ]
     },
     "metadata": {
      "needs_background": "light"
     },
     "output_type": "display_data"
    }
   ],
   "source": [
    "fig, ax = plt.subplots()\n",
    "ax.plot(n_tokens, n_types)\n",
    "plt.show()"
   ]
  },
  {
   "cell_type": "markdown",
   "metadata": {},
   "source": [
    "# 5. Ответьте на следующие вопросы:\n",
    "###    * какое слово встречается чаще, \"сотрудник\" или \"клиент\"?\n",
    "###    * сколько раз встречается слова \"мошенничество\" и \"доверие\"?"
   ]
  },
  {
   "cell_type": "code",
   "execution_count": 71,
   "metadata": {},
   "outputs": [
    {
     "data": {
      "text/plain": [
       "133734"
      ]
     },
     "execution_count": 71,
     "metadata": {},
     "output_type": "execute_result"
    }
   ],
   "source": [
    "nouns_cnt.get('сотрудник')"
   ]
  },
  {
   "cell_type": "code",
   "execution_count": 72,
   "metadata": {},
   "outputs": [
    {
     "data": {
      "text/plain": [
       "133311"
      ]
     },
     "execution_count": 72,
     "metadata": {},
     "output_type": "execute_result"
    }
   ],
   "source": [
    "nouns_cnt.get('клиент')"
   ]
  },
  {
   "cell_type": "markdown",
   "metadata": {},
   "source": [
    "#### Слово \"сотрудник\" встречается чаще"
   ]
  },
  {
   "cell_type": "code",
   "execution_count": 73,
   "metadata": {},
   "outputs": [
    {
     "data": {
      "text/plain": [
       "3183"
      ]
     },
     "execution_count": 73,
     "metadata": {},
     "output_type": "execute_result"
    }
   ],
   "source": [
    "nouns_cnt.get('мошенничество')"
   ]
  },
  {
   "cell_type": "code",
   "execution_count": 74,
   "metadata": {},
   "outputs": [
    {
     "data": {
      "text/plain": [
       "2087"
      ]
     },
     "execution_count": 74,
     "metadata": {},
     "output_type": "execute_result"
    }
   ],
   "source": [
    "nouns_cnt.get('доверие')"
   ]
  },
  {
   "cell_type": "markdown",
   "metadata": {},
   "source": [
    "#### Слово \"мошенничество\" встречается чаще"
   ]
  },
  {
   "cell_type": "markdown",
   "metadata": {},
   "source": [
    "# 6. В поле \"rating_grade\" записана оценка отзыва по шкале от 1 до 5. Используйте меру $tf-idf$, для того, чтобы найти ключевые слова и биграмы для положительных отзывов (с оценкой 5) и отрицательных отзывов (с оценкой 1)"
   ]
  },
  {
   "cell_type": "code",
   "execution_count": null,
   "metadata": {},
   "outputs": [],
   "source": []
  },
  {
   "cell_type": "markdown",
   "metadata": {},
   "source": [
    "### Я извиняюсь, к блоку курса приступил с задержкой, в связи с высокой загрузкой на работе. Данная домашняя работа находится на стадии доработки. Я выполню это задание до конца, но в срок уложиться, к сожалению, не получилось."
   ]
  },
  {
   "cell_type": "code",
   "execution_count": null,
   "metadata": {},
   "outputs": [],
   "source": []
  },
  {
   "cell_type": "code",
   "execution_count": null,
   "metadata": {},
   "outputs": [],
   "source": []
  },
  {
   "cell_type": "markdown",
   "metadata": {},
   "source": [
    "## Часть 2. Тематическое моделирование [20/100]\n",
    "\n",
    "1. Постройте несколько тематических моделей коллекции документов с разным числом тем. Приведите примеры понятных (интерпретируемых) тем.\n",
    "2. Найдите темы, в которых упомянуты конкретные банки (Сбербанк, ВТБ, другой банк). Можете ли вы их прокомментировать / объяснить?\n",
    "\n",
    "Эта часть задания может быть сделана с использованием gensim. "
   ]
  },
  {
   "cell_type": "markdown",
   "metadata": {},
   "source": [
    "## Часть 3. Классификация текстов [40/100]\n",
    "\n",
    "Сформулируем для простоты задачу бинарной классификации: будем классифицировать на два класса, то есть, различать резко отрицательные отзывы (с оценкой 1) и положительные отзывы (с оценкой 5). \n",
    "\n",
    "1.  Составьте обучающее и тестовое множество: выберите из всего набора данных N1 отзывов с оценкой 1 и N2 отзывов с оценкой 5 (значение N1 и N2 – на ваше усмотрение). Используйте ```sklearn.model_selection.train_test_split``` для разделения множества отобранных документов на обучающее и тестовое. \n",
    "2. Используйте любой известный вам алгоритм классификации текстов для решения задачи и получите baseline. Сравните разные варианты векторизации текста: использование только униграм, пар или троек слов или с использованием символьных $n$-грам. \n",
    "3. Сравните, как изменяется качество решения задачи при использовании скрытых тем в качестве признаков:\n",
    "* 1-ый вариант: $tf-idf$ преобразование (```sklearn.feature_extraction.text.TfidfTransformer```) и сингулярное разложение (оно же – латентый семантический анализ) (```sklearn.decomposition.TruncatedSVD```), \n",
    "* 2-ой вариант: тематические модели LDA (```sklearn.decomposition.LatentDirichletAllocation```). \n",
    "\n",
    "Используйте accuracy и F-measure для оценки качества классификации. \n",
    "\n",
    "Ниже написан примерный Pipeline для классификации текстов. \n",
    "\n",
    "Эта часть задания может быть сделана с использованием sklearn. "
   ]
  },
  {
   "cell_type": "code",
   "execution_count": null,
   "metadata": {},
   "outputs": [],
   "source": [
    "from sklearn.pipeline import Pipeline\n",
    "from sklearn.ensemble import RandomForestClassifier\n",
    "\n",
    "# !!! На каждом этапе Pipeline нужно указать свои параметры\n",
    "# 1-ый вариант: tf-idf + LSI\n",
    "# 2-ой вариант: LDA\n",
    "\n",
    "# clf = Pipeline([\n",
    "#     ('vect', CountVectorizer(analyzer = 'char', ngram_range={4,6})),\n",
    "#     ('clf', RandomForestClassifier()),\n",
    "# ])\n",
    "\n",
    "\n",
    "\n",
    "clf = Pipeline([ \n",
    "    ('vect', CountVectorizer()), \n",
    "    ('tfidf', TfidfTransformer()), \n",
    "    ('tm', TruncatedSVD()), \n",
    "    ('clf', RandomForestClassifier())\n",
    "])\n"
   ]
  }
 ],
 "metadata": {
  "kernelspec": {
   "display_name": "Python 3",
   "language": "python",
   "name": "python3"
  },
  "language_info": {
   "codemirror_mode": {
    "name": "ipython",
    "version": 3
   },
   "file_extension": ".py",
   "mimetype": "text/x-python",
   "name": "python",
   "nbconvert_exporter": "python",
   "pygments_lexer": "ipython3",
   "version": "3.6.8"
  }
 },
 "nbformat": 4,
 "nbformat_minor": 2
}
